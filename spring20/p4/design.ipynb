{
 "cells": [
  {
   "cell_type": "markdown",
   "metadata": {},
   "source": [
    "# Pokebattle - P4\n",
    "\n",
    "- Use a curated Pokemon dataset (https://www.kaggle.com/abcsds/pokemon/kernels?sortBy=voteCount&group=everyone&pageSize=20&datasetId=121)\n",
    "- Curated the dataset, did slight preprocessing and using only 60 pokemons (the csv file we provide)\n",
    "\n",
    "\n",
    "- General Idea\n",
    "    - Use an API to access different statistics for a list of Pokemons\n",
    "    - Develop a conditional structure to simulate a Pokemon Battle\n",
    "    - Start with a primitive `pokemon_battle_simple` function (provided template)\n",
    "    - Keep adding code to it till a certain level\n",
    "    - Change strategy and let students write a new function `pokemon_battle_survival` that includes some of the conditions from the last function and add new conditions.\n",
    "    \n",
    "\n",
    "- Intial questions:\n",
    "    - Warming up to the API\n",
    "    - Encourage students to read the docs in the API to decide which function to use(task made easier by self explanatory names)\n",
    "    - Additional question on designing a function `is_multitype` that categorises a pokemon \n",
    "    \n",
    "- Latter questions:\n",
    "    - Dedicated to designing the pokemon battle simulation task, using three approaches\n",
    "        - Simple Simulation based on one feature\n",
    "        - Conditional structure that takes multiple features into account successively\n",
    "        - Combine multiple features into one expression"
   ]
  },
  {
   "cell_type": "code",
   "execution_count": 27,
   "metadata": {},
   "outputs": [
    {
     "name": "stdout",
     "output_type": "stream",
     "text": [
      "The autoreload extension is already loaded. To reload it, use:\n",
      "  %reload_ext autoreload\n"
     ]
    }
   ],
   "source": [
    "from pokemon import *\n",
    "from submit import *\n",
    "%load_ext autoreload\n",
    "%autoreload 2"
   ]
  },
  {
   "cell_type": "code",
   "execution_count": 28,
   "metadata": {},
   "outputs": [],
   "source": [
    "init('pokemon_data.csv')"
   ]
  },
  {
   "cell_type": "code",
   "execution_count": 29,
   "metadata": {},
   "outputs": [
    {
     "data": {
      "text/plain": [
       "'quilladin'"
      ]
     },
     "execution_count": 29,
     "metadata": {},
     "output_type": "execute_result"
    }
   ],
   "source": [
    "# P1\n",
    "# Print the name of pokemon with ID = 12\n",
    "\n",
    "\n",
    "get_name(60)"
   ]
  },
  {
   "cell_type": "code",
   "execution_count": 30,
   "metadata": {},
   "outputs": [
    {
     "data": {
      "text/plain": [
       "5"
      ]
     },
     "execution_count": 30,
     "metadata": {},
     "output_type": "execute_result"
    }
   ],
   "source": [
    "# P2\n",
    "# Print Generation of pokemon with ID = 45\n",
    "\n",
    "get_generation(id=45)"
   ]
  },
  {
   "cell_type": "code",
   "execution_count": 31,
   "metadata": {},
   "outputs": [
    {
     "data": {
      "text/plain": [
       "False"
      ]
     },
     "execution_count": 31,
     "metadata": {},
     "output_type": "execute_result"
    }
   ],
   "source": [
    "# P3\n",
    "\n",
    "# Write function is_multitype() to determine if Pokemon id=5 is multitype\n",
    "\n",
    "is_multitype(5)"
   ]
  },
  {
   "cell_type": "code",
   "execution_count": 32,
   "metadata": {},
   "outputs": [
    {
     "data": {
      "text/plain": [
       "True"
      ]
     },
     "execution_count": 32,
     "metadata": {},
     "output_type": "execute_result"
    }
   ],
   "source": [
    "# P4\n",
    "\n",
    "# Write function is_multitype() to determine if Pokemon id=2 is multitype\n",
    "\n",
    "\n",
    "is_multitype(2)"
   ]
  },
  {
   "cell_type": "code",
   "execution_count": 33,
   "metadata": {},
   "outputs": [
    {
     "data": {
      "text/plain": [
       "'bulbasaur'"
      ]
     },
     "execution_count": 33,
     "metadata": {},
     "output_type": "execute_result"
    }
   ],
   "source": [
    "# P5\n",
    "\n",
    "# Modify function pokemon_battle_simple() that simulates battle between two pokemons id1, id2 \n",
    "# Strategy == check if total score is greater than other\n",
    "# Print name of the winning pokemon using API function used in P1.\n",
    "\n",
    "\n",
    "# Check for IDs = (1,5)\n",
    "\n",
    "id1 = 5\n",
    "id2 = 1\n",
    "\n",
    "# print(get_total(id1), get_total(id2), get_name(id1))\n",
    "\n",
    "pokemon_battle_simple(id1, id2)"
   ]
  },
  {
   "cell_type": "code",
   "execution_count": 34,
   "metadata": {},
   "outputs": [
    {
     "data": {
      "text/plain": [
       "'venusaur'"
      ]
     },
     "execution_count": 34,
     "metadata": {},
     "output_type": "execute_result"
    }
   ],
   "source": [
    "# P6\n",
    "\n",
    "# Check for IDs = (3,32)\n",
    "\n",
    "id1 = 3\n",
    "id2 = 32\n",
    "pokemon_battle_simple(id1, id2)"
   ]
  },
  {
   "cell_type": "code",
   "execution_count": 35,
   "metadata": {},
   "outputs": [
    {
     "data": {
      "text/plain": [
       "'Draw'"
      ]
     },
     "execution_count": 35,
     "metadata": {},
     "output_type": "execute_result"
    }
   ],
   "source": [
    "# P7\n",
    "\n",
    "\n",
    "# Add feature to the existing function that can detect a draw as well.\n",
    "# IDs = (50,57)\n",
    "\n",
    "pokemon_battle_simple(id1=50, id2=57)"
   ]
  },
  {
   "cell_type": "code",
   "execution_count": 36,
   "metadata": {},
   "outputs": [
    {
     "data": {
      "text/plain": [
       "'Draw'"
      ]
     },
     "execution_count": 36,
     "metadata": {},
     "output_type": "execute_result"
    }
   ],
   "source": [
    "# P8\n",
    "\n",
    "\n",
    "\"\"\"\n",
    "Add margin to the function.\n",
    "If the difference between the total scores of two pokemons is not greater \n",
    "than a specific value, it is a draw. Ideally, we dont want pokemons with \n",
    "very similar(but still not equal) total scores to produce a result. \n",
    "\"\"\"\n",
    "\n",
    "# IDs = (1,5), margin = 10\n",
    "\n",
    "\n",
    "\n",
    "id1 = 5\n",
    "id2 = 1\n",
    "\n",
    "# print(get_total(id1), get_total(id2), get_name(id1))\n",
    "\n",
    "pokemon_battle_simple(id1, id2, 10)"
   ]
  },
  {
   "cell_type": "code",
   "execution_count": 37,
   "metadata": {},
   "outputs": [
    {
     "data": {
      "text/plain": [
       "'thundurusincarnate forme'"
      ]
     },
     "execution_count": 37,
     "metadata": {},
     "output_type": "execute_result"
    }
   ],
   "source": [
    "# P9\n",
    "\n",
    "# IDs = (1,45), margin = 200\n",
    "\n",
    "\n",
    "id1 = 45\n",
    "id2 = 1\n",
    "\n",
    "# print(get_total(id1), get_total(id2), get_name(id1))\n",
    "pokemon_battle_simple(id1, id2, 200)"
   ]
  },
  {
   "cell_type": "code",
   "execution_count": 38,
   "metadata": {},
   "outputs": [
    {
     "data": {
      "text/plain": [
       "'exploud'"
      ]
     },
     "execution_count": 38,
     "metadata": {},
     "output_type": "execute_result"
    }
   ],
   "source": [
    "# P10\n",
    "# IDs = (19,40), margin = 2\n",
    "\n",
    "\n",
    "id1 = 19 \n",
    "id2 = 40\n",
    "\n",
    "pokemon_battle_simple(id1, id2, 2)"
   ]
  },
  {
   "cell_type": "code",
   "execution_count": 40,
   "metadata": {},
   "outputs": [
    {
     "name": "stdout",
     "output_type": "stream",
     "text": [
      "landorustherian forme meloettapirouette forme\n"
     ]
    },
    {
     "data": {
      "text/plain": [
       "'landorustherian forme'"
      ]
     },
     "execution_count": 40,
     "metadata": {},
     "output_type": "execute_result"
    }
   ],
   "source": [
    "# P11\n",
    "\n",
    "# If we draw, find survival score = defense_player - attack_opponent\n",
    "# pokemon with greater survival score wins\n",
    "\n",
    "pokemon_battle_survival(50, 57)"
   ]
  },
  {
   "cell_type": "code",
   "execution_count": 42,
   "metadata": {},
   "outputs": [
    {
     "data": {
      "text/plain": [
       "'bulbasaur'"
      ]
     },
     "execution_count": 42,
     "metadata": {},
     "output_type": "execute_result"
    }
   ],
   "source": [
    "# P12\n",
    "\n",
    "# Same, but with margin of 10\n",
    "pokemon_battle_survival(1, 5, 10)"
   ]
  },
  {
   "cell_type": "code",
   "execution_count": 43,
   "metadata": {},
   "outputs": [
    {
     "data": {
      "text/plain": [
       "'Draw'"
      ]
     },
     "execution_count": 43,
     "metadata": {},
     "output_type": "execute_result"
    }
   ],
   "source": [
    "# P13\n",
    "\n",
    "# Can use: [[14, 17], [15, 18], [42, 54], [42, 55], [43, 45], [49, 58], [54, 55]]\n",
    "# IDs = 14,17\n",
    "pokemon_battle_survival(14, 17)"
   ]
  },
  {
   "cell_type": "code",
   "execution_count": 45,
   "metadata": {},
   "outputs": [
    {
     "name": "stdout",
     "output_type": "stream",
     "text": [
      "1 6\n",
      "Not Compatible\n"
     ]
    }
   ],
   "source": [
    "# P14\n",
    "\n",
    "\"\"\"\n",
    "Check for generations of pokemon at first. \n",
    "Existing logic of battle exists only if the generations of both pokemons are not greater than 3\n",
    "\"\"\"\n",
    "pokemon_battle_survival(1, 60)"
   ]
  },
  {
   "cell_type": "code",
   "execution_count": 46,
   "metadata": {},
   "outputs": [
    {
     "data": {
      "text/plain": [
       "'Draw'"
      ]
     },
     "execution_count": 46,
     "metadata": {},
     "output_type": "execute_result"
    }
   ],
   "source": [
    "# P15\n",
    "\n",
    "# Ids = 15,18\n",
    "\n",
    "pokemon_battle_survival(15, 18)"
   ]
  },
  {
   "cell_type": "code",
   "execution_count": 51,
   "metadata": {},
   "outputs": [
    {
     "data": {
      "text/plain": [
       "'genesect'"
      ]
     },
     "execution_count": 51,
     "metadata": {},
     "output_type": "execute_result"
    }
   ],
   "source": [
    "# P16\n",
    "\n",
    "\"\"\"\n",
    "If survival score leads to a draw as well, like in P15, we use special moves. \n",
    "special survival score = (special_defense + normal_defense)_P1 - (special_attack + normal_attack)_P2\n",
    "\"\"\"\n",
    "pokemon_battle_survival(49, 58, special_moves=True)"
   ]
  },
  {
   "cell_type": "code",
   "execution_count": 52,
   "metadata": {},
   "outputs": [
    {
     "data": {
      "text/plain": [
       "'pelipper'"
      ]
     },
     "execution_count": 52,
     "metadata": {},
     "output_type": "execute_result"
    }
   ],
   "source": [
    "# P17\n",
    "pokemon_battle_survival(23, 1, special_moves=True)"
   ]
  },
  {
   "cell_type": "code",
   "execution_count": 55,
   "metadata": {},
   "outputs": [
    {
     "name": "stdout",
     "output_type": "stream",
     "text": [
      "Not Compatible\n"
     ]
    }
   ],
   "source": [
    "# P18\n",
    "pokemon_battle_survival(20, 60, special_moves=True)"
   ]
  },
  {
   "cell_type": "code",
   "execution_count": 56,
   "metadata": {},
   "outputs": [],
   "source": [
    "# P19\n",
    "\n",
    "\"\"\"\n",
    "Score based simulation.\n",
    "Complex mathematical expression that combines a lot of these statistics.\n",
    "Accumulate a score for both pokemons, determine winner.\n",
    "\"\"\"\n",
    "\n",
    "\n",
    "pokemon_battle_score(id1=1, id2=2)"
   ]
  },
  {
   "cell_type": "code",
   "execution_count": 57,
   "metadata": {},
   "outputs": [],
   "source": [
    "# P20\n",
    "\n",
    "pokemon_battle_score(id1=3, id2=4)"
   ]
  },
  {
   "cell_type": "code",
   "execution_count": null,
   "metadata": {},
   "outputs": [],
   "source": []
  },
  {
   "cell_type": "code",
   "execution_count": null,
   "metadata": {},
   "outputs": [],
   "source": []
  },
  {
   "cell_type": "code",
   "execution_count": null,
   "metadata": {},
   "outputs": [],
   "source": []
  },
  {
   "cell_type": "code",
   "execution_count": null,
   "metadata": {},
   "outputs": [],
   "source": []
  },
  {
   "cell_type": "code",
   "execution_count": null,
   "metadata": {},
   "outputs": [],
   "source": []
  },
  {
   "cell_type": "code",
   "execution_count": null,
   "metadata": {},
   "outputs": [],
   "source": []
  },
  {
   "cell_type": "code",
   "execution_count": 21,
   "metadata": {},
   "outputs": [
    {
     "data": {
      "text/plain": [
       "{'Name': 'ivysaur',\n",
       " 'HP': 60,\n",
       " 'Total': 405,\n",
       " 'Attack': 62,\n",
       " 'Defense': 63,\n",
       " 'Special_Attack': 80,\n",
       " 'Special_Defense': 80,\n",
       " 'Generation': 1,\n",
       " 'Types': ['Grass', 'Poison'],\n",
       " 'Legendary': 'False'}"
      ]
     },
     "execution_count": 21,
     "metadata": {},
     "output_type": "execute_result"
    }
   ],
   "source": [
    "get_pokemon_stats(2)"
   ]
  },
  {
   "cell_type": "code",
   "execution_count": 20,
   "metadata": {},
   "outputs": [],
   "source": [
    "# with open('pokemon_data.csv', 'w') as csvfile:\n",
    "#     writer = csv.DictWriter(csvfile, fieldnames=fieldnames)\n",
    "#     writer.writeheader()\n",
    "#     for pokemon in _pokemons:\n",
    "#         writer.writerow(pokemon)"
   ]
  },
  {
   "cell_type": "code",
   "execution_count": 22,
   "metadata": {},
   "outputs": [
    {
     "data": {
      "text/plain": [
       "OrderedDict([('Name', 'Bulbasaur'),\n",
       "             ('Type 1', 'Grass'),\n",
       "             ('Type 2', 'Poison'),\n",
       "             ('Total', '318'),\n",
       "             ('HP', '45'),\n",
       "             ('Attack', '49'),\n",
       "             ('Defense', '49'),\n",
       "             ('Sp. Atk', '65'),\n",
       "             ('Sp. Def', '65'),\n",
       "             ('Speed', '45'),\n",
       "             ('Generation', '1'),\n",
       "             ('Legendary', 'False'),\n",
       "             ('ID', '1')])"
      ]
     },
     "execution_count": 22,
     "metadata": {},
     "output_type": "execute_result"
    }
   ],
   "source": [
    "_pokemons[0]"
   ]
  },
  {
   "cell_type": "code",
   "execution_count": null,
   "metadata": {},
   "outputs": [],
   "source": []
  }
 ],
 "metadata": {
  "kernelspec": {
   "display_name": "Python 3",
   "language": "python",
   "name": "python3"
  },
  "language_info": {
   "codemirror_mode": {
    "name": "ipython",
    "version": 3
   },
   "file_extension": ".py",
   "mimetype": "text/x-python",
   "name": "python",
   "nbconvert_exporter": "python",
   "pygments_lexer": "ipython3",
   "version": "3.7.3"
  }
 },
 "nbformat": 4,
 "nbformat_minor": 2
}
